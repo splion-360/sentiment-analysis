{
 "cells": [
  {
   "cell_type": "code",
   "execution_count": null,
   "id": "62645d67-de12-4009-a5cd-94509e7ae5c9",
   "metadata": {},
   "outputs": [],
   "source": [
    "%load_ext autoreload\n",
    "%autoreload 2"
   ]
  },
  {
   "cell_type": "code",
   "execution_count": 2,
   "id": "8f9fe64b-28a7-4a86-955f-d5e7d70c2ec2",
   "metadata": {},
   "outputs": [],
   "source": [
    "import os\n",
    "from data.utils import get_dataloaders, load_data\n",
    "from data.tokenizers import TweetTokenizer\n",
    "from config import DATA_PATH, TRAIN_FILE, MAX_LENGTH, MAX_VOCAB_SIZE\n",
    "import pandas as pd\n",
    "from training.models.transformer import Transformer"
   ]
  },
  {
   "cell_type": "code",
   "execution_count": 12,
   "id": "1752e83a-75f5-4525-b85c-1aa8f35f7c6b",
   "metadata": {},
   "outputs": [],
   "source": [
    "train_path = os.path.join(DATA_PATH, \"train.csv\")\n",
    "tokenizer = TweetTokenizer()"
   ]
  },
  {
   "cell_type": "code",
   "execution_count": 4,
   "id": "48d92c38-446b-46f8-be09-f403dc03aba5",
   "metadata": {},
   "outputs": [
    {
     "name": "stderr",
     "output_type": "stream",
     "text": [
      "\u001b[31m2025-09-17 22:22:27,361 - data.utils - INFO - Dataset loaded from: data/trainingandtestdata/train.csv with 1600000 rows\u001b[0m\n",
      "\u001b[38;5;213m2025-09-17 22:22:28,998 - data.tokenizers - INFO - Loading vocabulary from data/toks/tweet_vocab.json\u001b[0m\n",
      "\u001b[31m2025-09-17 22:22:29,006 - data.utils - INFO - Created dataloaders - Train: 1584000, Val: 16000\u001b[0m\n",
      "\u001b[31m2025-09-17 22:22:29,006 - data.utils - INFO - Max length set to: 64\u001b[0m\n"
     ]
    }
   ],
   "source": [
    "train_loader, val_loader = get_dataloaders(train_path, tokenizer, max_length=MAX_LENGTH)\n",
    "for i, data in enumerate(train_loader):\n",
    "    break"
   ]
  },
  {
   "cell_type": "code",
   "execution_count": 5,
   "id": "a9ccbee7-fbd2-4656-a6c0-317ee85ddcc8",
   "metadata": {},
   "outputs": [
    {
     "data": {
      "text/plain": [
       "torch.Size([128, 64])"
      ]
     },
     "execution_count": 5,
     "metadata": {},
     "output_type": "execute_result"
    }
   ],
   "source": [
    "data['input_ids'].shape"
   ]
  },
  {
   "cell_type": "code",
   "execution_count": 6,
   "id": "1ba8b448-329c-47f6-b8e5-7b88c988a75e",
   "metadata": {},
   "outputs": [],
   "source": [
    "vocab = tokenizer.get_vocab\n",
    "pad_idx = vocab['stoi']['[PAD]']\n",
    "model = Transformer(MAX_VOCAB_SIZE, pad_idx)"
   ]
  },
  {
   "cell_type": "code",
   "execution_count": 7,
   "id": "bb84f881-8aa3-4f8e-99a2-8294492d6ad8",
   "metadata": {},
   "outputs": [],
   "source": [
    "out = model(data['input_ids'], mask=data['attention_mask'])"
   ]
  },
  {
   "cell_type": "code",
   "execution_count": 8,
   "id": "af614f78-a0fb-4e7c-9c60-c91384af1e32",
   "metadata": {},
   "outputs": [
    {
     "data": {
      "text/plain": [
       "torch.Size([128, 64])"
      ]
     },
     "execution_count": 8,
     "metadata": {},
     "output_type": "execute_result"
    }
   ],
   "source": [
    "data['input_ids'].shape"
   ]
  },
  {
   "cell_type": "code",
   "execution_count": 9,
   "id": "dbb4b1c3-b3e9-41bf-a861-9b2697d1a4e3",
   "metadata": {},
   "outputs": [],
   "source": [
    "counts = 0\n",
    "for params in model.parameters(): \n",
    "    counts += params.numel()"
   ]
  },
  {
   "cell_type": "code",
   "execution_count": 13,
   "id": "ec679c23-2174-417e-8d0d-3722e71a632e",
   "metadata": {},
   "outputs": [
    {
     "name": "stderr",
     "output_type": "stream",
     "text": [
      "\u001b[31m2025-09-17 22:29:49,821 - data.utils - INFO - Dataset loaded from: data/trainingandtestdata/train.csv with 1600000 rows\u001b[0m\n"
     ]
    }
   ],
   "source": [
    "data = load_data(train_path, is_raw = False)"
   ]
  },
  {
   "cell_type": "code",
   "execution_count": 14,
   "id": "6834fd86-f613-4f0b-bc19-d746e22df9cd",
   "metadata": {},
   "outputs": [],
   "source": [
    "data.dropna(inplace=True)"
   ]
  },
  {
   "cell_type": "code",
   "execution_count": 15,
   "id": "0825a791-dcd0-45b9-b511-096b4949161a",
   "metadata": {},
   "outputs": [
    {
     "data": {
      "text/html": [
       "<div>\n",
       "<style scoped>\n",
       "    .dataframe tbody tr th:only-of-type {\n",
       "        vertical-align: middle;\n",
       "    }\n",
       "\n",
       "    .dataframe tbody tr th {\n",
       "        vertical-align: top;\n",
       "    }\n",
       "\n",
       "    .dataframe thead th {\n",
       "        text-align: right;\n",
       "    }\n",
       "</style>\n",
       "<table border=\"1\" class=\"dataframe\">\n",
       "  <thead>\n",
       "    <tr style=\"text-align: right;\">\n",
       "      <th></th>\n",
       "      <th>target</th>\n",
       "      <th>text</th>\n",
       "      <th>cleaned_text</th>\n",
       "    </tr>\n",
       "  </thead>\n",
       "  <tbody>\n",
       "    <tr>\n",
       "      <th>0</th>\n",
       "      <td>0</td>\n",
       "      <td>@switchfoot http://twitpic.com/2y1zl - Awww, t...</td>\n",
       "      <td>Awww, that's a bummer. You shoulda got David C...</td>\n",
       "    </tr>\n",
       "    <tr>\n",
       "      <th>1</th>\n",
       "      <td>0</td>\n",
       "      <td>is upset that he can't update his Facebook by ...</td>\n",
       "      <td>is upset that he can't update his Facebook by ...</td>\n",
       "    </tr>\n",
       "    <tr>\n",
       "      <th>2</th>\n",
       "      <td>0</td>\n",
       "      <td>@Kenichan I dived many times for the ball. Man...</td>\n",
       "      <td>I dived many times for the ball. Managed to sa...</td>\n",
       "    </tr>\n",
       "    <tr>\n",
       "      <th>3</th>\n",
       "      <td>0</td>\n",
       "      <td>my whole body feels itchy and like its on fire</td>\n",
       "      <td>my whole body feels itchy and like its on fire</td>\n",
       "    </tr>\n",
       "    <tr>\n",
       "      <th>4</th>\n",
       "      <td>0</td>\n",
       "      <td>@nationwideclass no, it's not behaving at all....</td>\n",
       "      <td>no, it's not behaving at all. i'm mad. why am ...</td>\n",
       "    </tr>\n",
       "    <tr>\n",
       "      <th>...</th>\n",
       "      <td>...</td>\n",
       "      <td>...</td>\n",
       "      <td>...</td>\n",
       "    </tr>\n",
       "    <tr>\n",
       "      <th>1599995</th>\n",
       "      <td>4</td>\n",
       "      <td>Just woke up. Having no school is the best fee...</td>\n",
       "      <td>Just woke up. Having no school is the best fee...</td>\n",
       "    </tr>\n",
       "    <tr>\n",
       "      <th>1599996</th>\n",
       "      <td>4</td>\n",
       "      <td>TheWDB.com - Very cool to hear old Walt interv...</td>\n",
       "      <td>TheWDB.com - Very cool to hear old Walt interv...</td>\n",
       "    </tr>\n",
       "    <tr>\n",
       "      <th>1599997</th>\n",
       "      <td>4</td>\n",
       "      <td>Are you ready for your MoJo Makeover? Ask me f...</td>\n",
       "      <td>Are you ready for your MoJo Makeover? Ask me f...</td>\n",
       "    </tr>\n",
       "    <tr>\n",
       "      <th>1599998</th>\n",
       "      <td>4</td>\n",
       "      <td>Happy 38th Birthday to my boo of alll time!!! ...</td>\n",
       "      <td>Happy 38th Birthday to my boo of alll time! Tu...</td>\n",
       "    </tr>\n",
       "    <tr>\n",
       "      <th>1599999</th>\n",
       "      <td>4</td>\n",
       "      <td>happy #charitytuesday @theNSPCC @SparksCharity...</td>\n",
       "      <td>happy #charitytuesday</td>\n",
       "    </tr>\n",
       "  </tbody>\n",
       "</table>\n",
       "<p>1596446 rows × 3 columns</p>\n",
       "</div>"
      ],
      "text/plain": [
       "         target                                               text  \\\n",
       "0             0  @switchfoot http://twitpic.com/2y1zl - Awww, t...   \n",
       "1             0  is upset that he can't update his Facebook by ...   \n",
       "2             0  @Kenichan I dived many times for the ball. Man...   \n",
       "3             0    my whole body feels itchy and like its on fire    \n",
       "4             0  @nationwideclass no, it's not behaving at all....   \n",
       "...         ...                                                ...   \n",
       "1599995       4  Just woke up. Having no school is the best fee...   \n",
       "1599996       4  TheWDB.com - Very cool to hear old Walt interv...   \n",
       "1599997       4  Are you ready for your MoJo Makeover? Ask me f...   \n",
       "1599998       4  Happy 38th Birthday to my boo of alll time!!! ...   \n",
       "1599999       4  happy #charitytuesday @theNSPCC @SparksCharity...   \n",
       "\n",
       "                                              cleaned_text  \n",
       "0        Awww, that's a bummer. You shoulda got David C...  \n",
       "1        is upset that he can't update his Facebook by ...  \n",
       "2        I dived many times for the ball. Managed to sa...  \n",
       "3           my whole body feels itchy and like its on fire  \n",
       "4        no, it's not behaving at all. i'm mad. why am ...  \n",
       "...                                                    ...  \n",
       "1599995  Just woke up. Having no school is the best fee...  \n",
       "1599996  TheWDB.com - Very cool to hear old Walt interv...  \n",
       "1599997  Are you ready for your MoJo Makeover? Ask me f...  \n",
       "1599998  Happy 38th Birthday to my boo of alll time! Tu...  \n",
       "1599999                              happy #charitytuesday  \n",
       "\n",
       "[1596446 rows x 3 columns]"
      ]
     },
     "execution_count": 15,
     "metadata": {},
     "output_type": "execute_result"
    }
   ],
   "source": [
    "data"
   ]
  },
  {
   "cell_type": "code",
   "execution_count": null,
   "id": "2b7f5f38-3827-441c-905b-2d115c991e13",
   "metadata": {},
   "outputs": [],
   "source": []
  }
 ],
 "metadata": {
  "kernelspec": {
   "display_name": "Python 3 (ipykernel)",
   "language": "python",
   "name": "python3"
  },
  "language_info": {
   "codemirror_mode": {
    "name": "ipython",
    "version": 3
   },
   "file_extension": ".py",
   "mimetype": "text/x-python",
   "name": "python",
   "nbconvert_exporter": "python",
   "pygments_lexer": "ipython3",
   "version": "3.12.3"
  }
 },
 "nbformat": 4,
 "nbformat_minor": 5
}
